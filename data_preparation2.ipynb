{
 "cells": [
  {
   "cell_type": "code",
   "execution_count": null,
   "id": "95b13dc4",
   "metadata": {},
   "outputs": [],
   "source": [
    "import pandas as pd\n",
    "import numpy as np"
   ]
  },
  {
   "cell_type": "code",
   "execution_count": 31,
   "id": "5c89eda8",
   "metadata": {},
   "outputs": [],
   "source": [
    "df = pd.read_pickle('df_final.pkl')\n",
    "# df"
   ]
  },
  {
   "cell_type": "code",
   "execution_count": 15,
   "id": "b07f55c4",
   "metadata": {},
   "outputs": [],
   "source": [
    "# for i in df.columns:\n",
    "#     print(i,end=',')"
   ]
  },
  {
   "cell_type": "code",
   "execution_count": 32,
   "id": "68f6a126",
   "metadata": {},
   "outputs": [],
   "source": [
    "count = \"DRUG_TYPE_0_count,DRUG_TYPE_1_count,DRUG_TYPE_10_count,DRUG_TYPE_11_count,DRUG_TYPE_12_count,DRUG_TYPE_13_count,DRUG_TYPE_14_count,DRUG_TYPE_15_count,DRUG_TYPE_16_count,DRUG_TYPE_2_count,DRUG_TYPE_3_count,DRUG_TYPE_4_count,DRUG_TYPE_5_count,DRUG_TYPE_6_count,DRUG_TYPE_7_count,DRUG_TYPE_8_count,DRUG_TYPE_9_count,PRIMARY_DIAGNOSIS_count,SYMPTOM_TYPE_0_count,SYMPTOM_TYPE_1_count,SYMPTOM_TYPE_10_count,SYMPTOM_TYPE_11_count,SYMPTOM_TYPE_12_count,SYMPTOM_TYPE_13_count,SYMPTOM_TYPE_14_count,SYMPTOM_TYPE_15_count,SYMPTOM_TYPE_16_count,SYMPTOM_TYPE_17_count,SYMPTOM_TYPE_18_count,SYMPTOM_TYPE_19_count,SYMPTOM_TYPE_2_count,SYMPTOM_TYPE_21_count,SYMPTOM_TYPE_22_count,SYMPTOM_TYPE_23_count,SYMPTOM_TYPE_25_count,SYMPTOM_TYPE_26_count,SYMPTOM_TYPE_29_count,SYMPTOM_TYPE_3_count,SYMPTOM_TYPE_4_count,SYMPTOM_TYPE_5_count,SYMPTOM_TYPE_6_count,SYMPTOM_TYPE_7_count,SYMPTOM_TYPE_8_count,SYMPTOM_TYPE_9_count,TEST_TYPE_0_count,TEST_TYPE_1_count,TEST_TYPE_2_count,TEST_TYPE_3_count,TEST_TYPE_4_count,TEST_TYPE_5_count\"\n",
    "avg_time = \"DRUG_TYPE_0_avg_time,DRUG_TYPE_1_avg_time,DRUG_TYPE_11_avg_time,DRUG_TYPE_2_avg_time,DRUG_TYPE_3_avg_time,DRUG_TYPE_6_avg_time,DRUG_TYPE_7_avg_time,PRIMARY_DIAGNOSIS_avg_time,SYMPTOM_TYPE_0_avg_time,SYMPTOM_TYPE_15_avg_time,SYMPTOM_TYPE_6_avg_time,SYMPTOM_TYPE_7_avg_time,SYMPTOM_TYPE_8_avg_time,TEST_TYPE_0_avg_time,TEST_TYPE_1_avg_time,TEST_TYPE_2_avg_time,DRUG_TYPE_15_avg_time,DRUG_TYPE_4_avg_time,DRUG_TYPE_5_avg_time,DRUG_TYPE_8_avg_time,DRUG_TYPE_9_avg_time,SYMPTOM_TYPE_4_avg_time,SYMPTOM_TYPE_1_avg_time,SYMPTOM_TYPE_12_avg_time,SYMPTOM_TYPE_2_avg_time,SYMPTOM_TYPE_3_avg_time,TEST_TYPE_3_avg_time,SYMPTOM_TYPE_5_avg_time,SYMPTOM_TYPE_18_avg_time,SYMPTOM_TYPE_14_avg_time,SYMPTOM_TYPE_29_avg_time,SYMPTOM_TYPE_10_avg_time,DRUG_TYPE_13_avg_time,SYMPTOM_TYPE_16_avg_time,SYMPTOM_TYPE_19_avg_time,TEST_TYPE_4_avg_time,SYMPTOM_TYPE_11_avg_time,SYMPTOM_TYPE_13_avg_time,DRUG_TYPE_12_avg_time,SYMPTOM_TYPE_17_avg_time,SYMPTOM_TYPE_9_avg_time,DRUG_TYPE_14_avg_time,DRUG_TYPE_10_avg_time,SYMPTOM_TYPE_21_avg_time,DRUG_TYPE_16_avg_time,SYMPTOM_TYPE_23_avg_time,TEST_TYPE_5_avg_time,SYMPTOM_TYPE_25_avg_time,SYMPTOM_TYPE_26_avg_time,SYMPTOM_TYPE_22_avg_time\"\n",
    "\n",
    "count = count.split(',')\n",
    "avg_time = avg_time.split(',')"
   ]
  },
  {
   "cell_type": "code",
   "execution_count": 33,
   "id": "de4eda2a",
   "metadata": {},
   "outputs": [],
   "source": [
    "for i in count:\n",
    "    df[i] = df[i].fillna(0)\n",
    "for i in avg_time:\n",
    "    df[i] = df[i].dt.days.astype('float64')\n",
    "    df[i] = df[i].fillna(-1)"
   ]
  },
  {
   "cell_type": "code",
   "execution_count": 34,
   "id": "c9b083b1",
   "metadata": {},
   "outputs": [],
   "source": [
    "df = df.drop('Patient-Uid', axis = 1)\n",
    "df.to_csv('processed_data.csv')"
   ]
  },
  {
   "cell_type": "code",
   "execution_count": null,
   "id": "b7db4278",
   "metadata": {},
   "outputs": [],
   "source": [
    "tmp = pd.read_csv('processed_data.csv')"
   ]
  }
 ],
 "metadata": {
  "kernelspec": {
   "display_name": "Python 3 (ipykernel)",
   "language": "python",
   "name": "python3"
  },
  "language_info": {
   "codemirror_mode": {
    "name": "ipython",
    "version": 3
   },
   "file_extension": ".py",
   "mimetype": "text/x-python",
   "name": "python",
   "nbconvert_exporter": "python",
   "pygments_lexer": "ipython3",
   "version": "3.9.7"
  }
 },
 "nbformat": 4,
 "nbformat_minor": 5
}
